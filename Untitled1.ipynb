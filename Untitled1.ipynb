{
  "nbformat": 4,
  "nbformat_minor": 0,
  "metadata": {
    "colab": {
      "provenance": [],
      "authorship_tag": "ABX9TyPQbd4Ax9rDuJ1zzd0n8rwZ",
      "include_colab_link": true
    },
    "kernelspec": {
      "name": "python3",
      "display_name": "Python 3"
    },
    "language_info": {
      "name": "python"
    }
  },
  "cells": [
    {
      "cell_type": "markdown",
      "metadata": {
        "id": "view-in-github",
        "colab_type": "text"
      },
      "source": [
        "<a href=\"https://colab.research.google.com/github/foge6/777/blob/main/Untitled1.ipynb\" target=\"_parent\"><img src=\"https://colab.research.google.com/assets/colab-badge.svg\" alt=\"Open In Colab\"/></a>"
      ]
    },
    {
      "cell_type": "code",
      "execution_count": 28,
      "metadata": {
        "colab": {
          "base_uri": "https://localhost:8080/"
        },
        "cellView": "form",
        "id": "xY-Cyg5dWhDG",
        "outputId": "0729a14b-e05f-40c3-ec4f-fad527a12cf6"
      },
      "outputs": [
        {
          "output_type": "execute_result",
          "data": {
            "text/plain": [
              "206683.83635227982"
            ]
          },
          "metadata": {},
          "execution_count": 28
        }
      ],
      "source": [
        "#@title Задание 40\n",
        "\n",
        "# Определить среднюю стоимость дома, где кол-во людей от 0 до 500 (population).\n",
        "import pandas as pd\n",
        "\n",
        "df = pd.read_csv('/content/sample_data/california_housing_train.csv')\n",
        "df[df['population'] < 500].median_house_value.mean() "
      ]
    },
    {
      "cell_type": "code",
      "source": [
        "#@title Задание 42\n",
        "# узнать какая максимальная households в зоне минимального значения population.\n",
        "import pandas as pd\n",
        "df = pd.read_csv('/content/sample_data/california_housing_train.csv')\n",
        "\n",
        "\n",
        "min_population = df.population.min()\n",
        "df[df['population']==min_population].households.min()"
      ],
      "metadata": {
        "colab": {
          "base_uri": "https://localhost:8080/"
        },
        "cellView": "form",
        "id": "pukOwWTIbzW5",
        "outputId": "646061e3-0a23-4079-9585-5ba40a100fa7"
      },
      "execution_count": 49,
      "outputs": [
        {
          "output_type": "execute_result",
          "data": {
            "text/plain": [
              "4.0"
            ]
          },
          "metadata": {},
          "execution_count": 49
        }
      ]
    }
  ]
}